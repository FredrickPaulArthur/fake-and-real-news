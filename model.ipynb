{
 "cells": [
  {
   "cell_type": "markdown",
   "id": "50ba592e-b3df-4d6c-b9c2-2bf7fbdbdfd8",
   "metadata": {},
   "source": [
    "## Dataset"
   ]
  },
  {
   "cell_type": "code",
   "execution_count": 6,
   "id": "50e7e5c2-58b2-4d46-b45f-549badd84ffe",
   "metadata": {},
   "outputs": [],
   "source": [
    "import re\n",
    "import pandas as pd\n",
    "import numpy as np\n",
    "from sklearn.utils import shuffle\n"
   ]
  },
  {
   "cell_type": "code",
   "execution_count": 13,
   "id": "7bf8c156-bcb6-4197-96a6-e69667714d04",
   "metadata": {},
   "outputs": [
    {
     "data": {
      "text/plain": [
       "8846     NEW YORK (Reuters) - Democratic presidential c...\n",
       "17377    CAIRO (Reuters) - Islamic state has claimed re...\n",
       "24811    As we get closer to the day when Trump must ta...\n",
       "21811    The Trump administration has been getting abso...\n",
       "38690    Why would the Vatican invite an aggressive lef...\n",
       "                               ...                        \n",
       "13872    CAIRO (Reuters) - Militant gunmen who killed m...\n",
       "24776    Donald Trump s desperate effort to make people...\n",
       "1064     San Diego (Reuters) - Nine months after Presid...\n",
       "19494    BEIJING (Reuters) - The recent tensions on the...\n",
       "5551     TOKYO (Reuters) - Japanese Prime Minister Shin...\n",
       "Name: text, Length: 44898, dtype: object"
      ]
     },
     "execution_count": 13,
     "metadata": {},
     "output_type": "execute_result"
    }
   ],
   "source": [
    "df_true = pd.read_csv(\"fake-and-real-news-dataset\\True.csv\")\n",
    "df_fake = pd.read_csv(\"fake-and-real-news-dataset\\Fake.csv\")\n",
    "\n",
    "# df_true = pd.DataFrame(data_true)\n",
    "# df_fake = pd.DataFrame(data_fake)\n",
    "\n",
    "df_true['is_true'] = 1\n",
    "df_fake['is_true'] = 0\n",
    "    \n",
    "frames = [df_true, df_fake]\n",
    "\n",
    "df = shuffle(pd.concat(frames).reset_index(drop=True))\n",
    "\n",
    "X, y = df[\"text\"], df['is_true']\n",
    "\n",
    "X"
   ]
  },
  {
   "cell_type": "markdown",
   "id": "f036474d-d280-42e3-bb76-64299315e3d5",
   "metadata": {},
   "source": [
    "## Preprocessing"
   ]
  },
  {
   "cell_type": "code",
   "execution_count": 137,
   "id": "f3cde875-1af9-4b34-a48b-ccdd1051017e",
   "metadata": {},
   "outputs": [],
   "source": [
    "# "
   ]
  }
 ],
 "metadata": {
  "kernelspec": {
   "display_name": "Python 3 (ipykernel)",
   "language": "python",
   "name": "python3"
  },
  "language_info": {
   "codemirror_mode": {
    "name": "ipython",
    "version": 3
   },
   "file_extension": ".py",
   "mimetype": "text/x-python",
   "name": "python",
   "nbconvert_exporter": "python",
   "pygments_lexer": "ipython3",
   "version": "3.10.13"
  }
 },
 "nbformat": 4,
 "nbformat_minor": 5
}
